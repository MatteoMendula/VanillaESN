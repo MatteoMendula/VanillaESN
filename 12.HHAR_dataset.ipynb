{
 "cells": [
  {
   "cell_type": "code",
   "execution_count": 52,
   "metadata": {},
   "outputs": [],
   "source": [
    "import pandas as pd"
   ]
  },
  {
   "cell_type": "code",
   "execution_count": 53,
   "metadata": {},
   "outputs": [],
   "source": [
    "BASE_DIR = '/home/matteo/Documents/postDoc/CTTC/HHAR/'\n",
    "accelerometer = 'Phones_accelerometer.csv'\n",
    "gyroscope = 'Phones_gyroscope.csv'"
   ]
  },
  {
   "cell_type": "code",
   "execution_count": 54,
   "metadata": {},
   "outputs": [],
   "source": [
    "df_accelerometer = pd.read_csv(BASE_DIR + accelerometer)"
   ]
  },
  {
   "cell_type": "code",
   "execution_count": 55,
   "metadata": {},
   "outputs": [],
   "source": [
    "df_gyroscope = pd.read_csv(BASE_DIR + gyroscope)"
   ]
  },
  {
   "cell_type": "code",
   "execution_count": 56,
   "metadata": {},
   "outputs": [
    {
     "data": {
      "text/plain": [
       "Index(['Index', 'Arrival_Time', 'Creation_Time', 'x', 'y', 'z', 'User',\n",
       "       'Model', 'Device', 'gt'],\n",
       "      dtype='object')"
      ]
     },
     "execution_count": 56,
     "metadata": {},
     "output_type": "execute_result"
    }
   ],
   "source": [
    "df_accelerometer.columns"
   ]
  },
  {
   "cell_type": "code",
   "execution_count": 57,
   "metadata": {},
   "outputs": [
    {
     "data": {
      "text/plain": [
       "array(['nexus4', 's3', 's3mini', 'samsungold'], dtype=object)"
      ]
     },
     "execution_count": 57,
     "metadata": {},
     "output_type": "execute_result"
    }
   ],
   "source": [
    "df_accelerometer[\"Model\"].unique()"
   ]
  },
  {
   "cell_type": "code",
   "execution_count": 58,
   "metadata": {},
   "outputs": [
    {
     "name": "stdout",
     "output_type": "stream",
     "text": [
      "13062475\n",
      "13932632\n",
      "-870157\n"
     ]
    }
   ],
   "source": [
    "print(len(df_accelerometer))\n",
    "print(len(df_gyroscope))\n",
    "print(len(df_accelerometer) - len(df_gyroscope))"
   ]
  },
  {
   "cell_type": "code",
   "execution_count": 59,
   "metadata": {},
   "outputs": [
    {
     "data": {
      "text/plain": [
       "<Axes: xlabel='gt'>"
      ]
     },
     "execution_count": 59,
     "metadata": {},
     "output_type": "execute_result"
    },
    {
     "data": {
      "image/png": "[encoded data removed]",
      "text/plain": [
       "<Figure size 640x480 with 1 Axes>"
      ]
     },
     "metadata": {},
     "output_type": "display_data"
    }
   ],
   "source": [
    "df_accelerometer[\"gt\"].value_counts()\n",
    "# plot histogram of the classes\n",
    "df_accelerometer[\"gt\"].value_counts().plot(kind='bar')"
   ]
  },
  {
   "cell_type": "code",
   "execution_count": 60,
   "metadata": {},
   "outputs": [
    {
     "data": {
      "text/plain": [
       "<Axes: xlabel='gt'>"
      ]
     },
     "execution_count": 60,
     "metadata": {},
     "output_type": "execute_result"
    },
    {
     "data": {
      "image/png": "[encoded data removed]",
      "text/plain": [
       "<Figure size 640x480 with 1 Axes>"
      ]
     },
     "metadata": {},
     "output_type": "display_data"
    }
   ],
   "source": [
    "df_gyroscope[\"gt\"].value_counts()\n",
    "# plot histogram of the classes\n",
    "df_gyroscope[\"gt\"].value_counts().plot(kind='bar')"
   ]
  },
  {
   "cell_type": "code",
   "execution_count": 61,
   "metadata": {},
   "outputs": [
    {
     "data": {
      "text/html": [
       "<div>\n",
       "<style scoped>\n",
       "    .dataframe tbody tr th:only-of-type {\n",
       "        vertical-align: middle;\n",
       "    }\n",
       "\n",
       "    .dataframe tbody tr th {\n",
       "        vertical-align: top;\n",
       "    }\n",
       "\n",
       "    .dataframe thead th {\n",
       "        text-align: right;\n",
       "    }\n",
       "</style>\n",
       "<table border=\"1\" class=\"dataframe\">\n",
       "  <thead>\n",
       "    <tr style=\"text-align: right;\">\n",
       "      <th></th>\n",
       "      <th>Index</th>\n",
       "      <th>Arrival_Time</th>\n",
       "      <th>Creation_Time</th>\n",
       "      <th>x</th>\n",
       "      <th>y</th>\n",
       "      <th>z</th>\n",
       "      <th>User</th>\n",
       "      <th>Model</th>\n",
       "      <th>Device</th>\n",
       "      <th>gt</th>\n",
       "    </tr>\n",
       "  </thead>\n",
       "  <tbody>\n",
       "    <tr>\n",
       "      <th>0</th>\n",
       "      <td>0</td>\n",
       "      <td>1424696633908</td>\n",
       "      <td>1424696631913248572</td>\n",
       "      <td>-5.958191</td>\n",
       "      <td>0.688065</td>\n",
       "      <td>8.135345</td>\n",
       "      <td>a</td>\n",
       "      <td>nexus4</td>\n",
       "      <td>nexus4_1</td>\n",
       "      <td>stand</td>\n",
       "    </tr>\n",
       "    <tr>\n",
       "      <th>1</th>\n",
       "      <td>1</td>\n",
       "      <td>1424696633909</td>\n",
       "      <td>1424696631918283972</td>\n",
       "      <td>-5.952240</td>\n",
       "      <td>0.670212</td>\n",
       "      <td>8.136536</td>\n",
       "      <td>a</td>\n",
       "      <td>nexus4</td>\n",
       "      <td>nexus4_1</td>\n",
       "      <td>stand</td>\n",
       "    </tr>\n",
       "    <tr>\n",
       "      <th>2</th>\n",
       "      <td>2</td>\n",
       "      <td>1424696633918</td>\n",
       "      <td>1424696631923288855</td>\n",
       "      <td>-5.995087</td>\n",
       "      <td>0.653549</td>\n",
       "      <td>8.204376</td>\n",
       "      <td>a</td>\n",
       "      <td>nexus4</td>\n",
       "      <td>nexus4_1</td>\n",
       "      <td>stand</td>\n",
       "    </tr>\n",
       "    <tr>\n",
       "      <th>3</th>\n",
       "      <td>3</td>\n",
       "      <td>1424696633919</td>\n",
       "      <td>1424696631928385290</td>\n",
       "      <td>-5.942718</td>\n",
       "      <td>0.676163</td>\n",
       "      <td>8.128204</td>\n",
       "      <td>a</td>\n",
       "      <td>nexus4</td>\n",
       "      <td>nexus4_1</td>\n",
       "      <td>stand</td>\n",
       "    </tr>\n",
       "    <tr>\n",
       "      <th>4</th>\n",
       "      <td>4</td>\n",
       "      <td>1424696633929</td>\n",
       "      <td>1424696631933420691</td>\n",
       "      <td>-5.991516</td>\n",
       "      <td>0.641647</td>\n",
       "      <td>8.135345</td>\n",
       "      <td>a</td>\n",
       "      <td>nexus4</td>\n",
       "      <td>nexus4_1</td>\n",
       "      <td>stand</td>\n",
       "    </tr>\n",
       "    <tr>\n",
       "      <th>...</th>\n",
       "      <td>...</td>\n",
       "      <td>...</td>\n",
       "      <td>...</td>\n",
       "      <td>...</td>\n",
       "      <td>...</td>\n",
       "      <td>...</td>\n",
       "      <td>...</td>\n",
       "      <td>...</td>\n",
       "      <td>...</td>\n",
       "      <td>...</td>\n",
       "    </tr>\n",
       "    <tr>\n",
       "      <th>13062470</th>\n",
       "      <td>129048</td>\n",
       "      <td>1424778553315</td>\n",
       "      <td>92263781761000</td>\n",
       "      <td>1.379043</td>\n",
       "      <td>0.153227</td>\n",
       "      <td>9.959755</td>\n",
       "      <td>i</td>\n",
       "      <td>samsungold</td>\n",
       "      <td>samsungold_2</td>\n",
       "      <td>bike</td>\n",
       "    </tr>\n",
       "    <tr>\n",
       "      <th>13062471</th>\n",
       "      <td>129049</td>\n",
       "      <td>1424778553346</td>\n",
       "      <td>92263812248000</td>\n",
       "      <td>1.379043</td>\n",
       "      <td>0.153227</td>\n",
       "      <td>9.806528</td>\n",
       "      <td>i</td>\n",
       "      <td>samsungold</td>\n",
       "      <td>samsungold_2</td>\n",
       "      <td>bike</td>\n",
       "    </tr>\n",
       "    <tr>\n",
       "      <th>13062472</th>\n",
       "      <td>129050</td>\n",
       "      <td>1424778553366</td>\n",
       "      <td>92263832267000</td>\n",
       "      <td>1.532270</td>\n",
       "      <td>0.153227</td>\n",
       "      <td>9.806528</td>\n",
       "      <td>i</td>\n",
       "      <td>samsungold</td>\n",
       "      <td>samsungold_2</td>\n",
       "      <td>bike</td>\n",
       "    </tr>\n",
       "    <tr>\n",
       "      <th>13062473</th>\n",
       "      <td>129051</td>\n",
       "      <td>1424778553386</td>\n",
       "      <td>92263852409000</td>\n",
       "      <td>1.532270</td>\n",
       "      <td>0.000000</td>\n",
       "      <td>9.959755</td>\n",
       "      <td>i</td>\n",
       "      <td>samsungold</td>\n",
       "      <td>samsungold_2</td>\n",
       "      <td>bike</td>\n",
       "    </tr>\n",
       "    <tr>\n",
       "      <th>13062474</th>\n",
       "      <td>129052</td>\n",
       "      <td>1424778553395</td>\n",
       "      <td>92263861839000</td>\n",
       "      <td>1.379043</td>\n",
       "      <td>0.000000</td>\n",
       "      <td>9.959755</td>\n",
       "      <td>i</td>\n",
       "      <td>samsungold</td>\n",
       "      <td>samsungold_2</td>\n",
       "      <td>bike</td>\n",
       "    </tr>\n",
       "  </tbody>\n",
       "</table>\n",
       "<p>13062475 rows × 10 columns</p>\n",
       "</div>"
      ],
      "text/plain": [
       "           Index   Arrival_Time        Creation_Time         x         y  \\\n",
       "0              0  1424696633908  1424696631913248572 -5.958191  0.688065   \n",
       "1              1  1424696633909  1424696631918283972 -5.952240  0.670212   \n",
       "2              2  1424696633918  1424696631923288855 -5.995087  0.653549   \n",
       "3              3  1424696633919  1424696631928385290 -5.942718  0.676163   \n",
       "4              4  1424696633929  1424696631933420691 -5.991516  0.641647   \n",
       "...          ...            ...                  ...       ...       ...   \n",
       "13062470  129048  1424778553315       92263781761000  1.379043  0.153227   \n",
       "13062471  129049  1424778553346       92263812248000  1.379043  0.153227   \n",
       "13062472  129050  1424778553366       92263832267000  1.532270  0.153227   \n",
       "13062473  129051  1424778553386       92263852409000  1.532270  0.000000   \n",
       "13062474  129052  1424778553395       92263861839000  1.379043  0.000000   \n",
       "\n",
       "                 z User       Model        Device     gt  \n",
       "0         8.135345    a      nexus4      nexus4_1  stand  \n",
       "1         8.136536    a      nexus4      nexus4_1  stand  \n",
       "2         8.204376    a      nexus4      nexus4_1  stand  \n",
       "3         8.128204    a      nexus4      nexus4_1  stand  \n",
       "4         8.135345    a      nexus4      nexus4_1  stand  \n",
       "...            ...  ...         ...           ...    ...  \n",
       "13062470  9.959755    i  samsungold  samsungold_2   bike  \n",
       "13062471  9.806528    i  samsungold  samsungold_2   bike  \n",
       "13062472  9.806528    i  samsungold  samsungold_2   bike  \n",
       "13062473  9.959755    i  samsungold  samsungold_2   bike  \n",
       "13062474  9.959755    i  samsungold  samsungold_2   bike  \n",
       "\n",
       "[13062475 rows x 10 columns]"
      ]
     },
     "execution_count": 61,
     "metadata": {},
     "output_type": "execute_result"
    }
   ],
   "source": [
    "df_accelerometer"
   ]
  },
  {
   "cell_type": "code",
   "execution_count": 62,
   "metadata": {},
   "outputs": [
    {
     "data": {
      "text/plain": [
       "0                -1\n",
       "1                 0\n",
       "2                 0\n",
       "3                 0\n",
       "4                 1\n",
       "             ...   \n",
       "13062470    1773462\n",
       "13062471    1773484\n",
       "13062472    1773502\n",
       "13062473    1773518\n",
       "13062474    1773522\n",
       "Name: Arrival_Time, Length: 13062475, dtype: int64"
      ]
     },
     "execution_count": 62,
     "metadata": {},
     "output_type": "execute_result"
    }
   ],
   "source": [
    "df_accelerometer[\"Arrival_Time\"] - df_gyroscope[\"Arrival_Time\"][:len(df_accelerometer)]"
   ]
  },
  {
   "cell_type": "code",
   "execution_count": 63,
   "metadata": {},
   "outputs": [
    {
     "data": {
      "text/plain": [
       "0                   793457\n",
       "1                   762940\n",
       "2                   762939\n",
       "3                   732422\n",
       "4                   793457\n",
       "                 ...      \n",
       "13062470    39755095770000\n",
       "13062471    39755070282000\n",
       "13062472    39755055255000\n",
       "13062473    39755040138000\n",
       "13062474    39755035684000\n",
       "Name: Creation_Time, Length: 13062475, dtype: int64"
      ]
     },
     "execution_count": 63,
     "metadata": {},
     "output_type": "execute_result"
    }
   ],
   "source": [
    "a = abs(df_accelerometer[\"Creation_Time\"] - df_gyroscope[\"Creation_Time\"][:len(df_accelerometer)])\n",
    "a"
   ]
  },
  {
   "cell_type": "code",
   "execution_count": 64,
   "metadata": {},
   "outputs": [],
   "source": [
    "for i in range(len(a)):\n",
    "    if a[i] < 1000:\n",
    "        print(i)"
   ]
  },
  {
   "cell_type": "code",
   "execution_count": 65,
   "metadata": {},
   "outputs": [
    {
     "data": {
      "text/plain": [
       "0                 1\n",
       "1                 0\n",
       "2                 0\n",
       "3                 0\n",
       "4                 1\n",
       "             ...   \n",
       "13062470    1773462\n",
       "13062471    1773484\n",
       "13062472    1773502\n",
       "13062473    1773518\n",
       "13062474    1773522\n",
       "Name: Arrival_Time, Length: 13062475, dtype: int64"
      ]
     },
     "execution_count": 65,
     "metadata": {},
     "output_type": "execute_result"
    }
   ],
   "source": [
    "a = abs(df_accelerometer[\"Arrival_Time\"] - df_gyroscope[\"Arrival_Time\"][:len(df_accelerometer)])\n",
    "a"
   ]
  },
  {
   "cell_type": "code",
   "execution_count": 66,
   "metadata": {},
   "outputs": [
    {
     "name": "stdout",
     "output_type": "stream",
     "text": [
      "652402\n",
      "13062475\n",
      "0.049944746305734554\n"
     ]
    }
   ],
   "source": [
    "sync = [ a[i] for i in range(len(a)) if a[i] < 1000]\n",
    "print(len(sync))\n",
    "print(len(a))\n",
    "print(len(sync)/len(a))\n"
   ]
  },
  {
   "cell_type": "code",
   "execution_count": 70,
   "metadata": {},
   "outputs": [],
   "source": [
    "def sync_time(df1, df2):\n",
    "    new_df1 = df1.copy()\n",
    "    # rename columns x,y,z of df1 to x_acc, y_acc, z_acc\n",
    "    # original columns are Index\tArrival_Time\tCreation_Time\tx\ty\tz\tUser\tModel\tDevice\tg\n",
    "    new_df1.columns = ['Index', 'Arrival_Time', 'Creation_Time', 'x_acc', 'y_acc', 'z_acc', 'User', 'Model', 'Device', 'g']\n",
    "    for i in range(len(df1)):\n",
    "        # look for the closest timestamp Arrival_Time in df2, still below 100ms\n",
    "        sample_df1 = df1.iloc[i]\n",
    "        for j in range(len(df2)):\n",
    "            sample_df2 = df2.iloc[j]\n",
    "            if abs(sample_df1[\"Arrival_Time\"] - sample_df2[\"Arrival_Time\"]) < 100:\n",
    "                # if the timestamp is close enough, add the gyroscope values to the accelerometer values\n",
    "                new_df1.loc[i, 'x_gyro'] = sample_df2[\"x\"]\n",
    "                new_df1.loc[i, 'y_gyro'] = sample_df2[\"y\"]\n",
    "                new_df1.loc[i, 'z_gyro'] = sample_df2[\"z\"]\n",
    "                break"
   ]
  },
  {
   "cell_type": "code",
   "execution_count": 71,
   "metadata": {},
   "outputs": [],
   "source": [
    "new_sync = sync_time(df_accelerometer, df_gyroscope)\n",
    "new_sync"
   ]
  }
 ],
 "metadata": {
  "kernelspec": {
   "display_name": "reservoir",
   "language": "python",
   "name": "python3"
  },
  "language_info": {
   "codemirror_mode": {
    "name": "ipython",
    "version": 3
   },
   "file_extension": ".py",
   "mimetype": "text/x-python",
   "name": "python",
   "nbconvert_exporter": "python",
   "pygments_lexer": "ipython3",
   "version": "3.12.4"
  }
 },
 "nbformat": 4,
 "nbformat_minor": 2
}
